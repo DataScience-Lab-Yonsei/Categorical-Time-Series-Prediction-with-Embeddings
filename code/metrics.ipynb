{
  "nbformat": 4,
  "nbformat_minor": 0,
  "metadata": {
    "colab": {
      "name": "metrics.ipynb",
      "provenance": [],
      "machine_shape": "hm"
    },
    "kernelspec": {
      "name": "python3",
      "display_name": "Python 3"
    },
    "language_info": {
      "name": "python"
    },
    "accelerator": "GPU"
  },
  "cells": [
    {
      "cell_type": "code",
      "execution_count": null,
      "metadata": {
        "id": "wxPMpFXmpljX"
      },
      "outputs": [],
      "source": [
        "import numpy as np\n",
        "import pandas as pd\n",
        "import matplotlib.pyplot as plt\n",
        "import torch\n",
        "import torch.nn as nn\n",
        "import torch.optim as optim\n",
        "import os\n",
        "from torch.utils.data import DataLoader, Dataset"
      ]
    },
    {
      "cell_type": "code",
      "source": [
        "if os.getcwd() == '/content':\n",
        "    os.chdir('/content/drive/Shareddrives/시게열 모델링/분류예측/박준우/data')"
      ],
      "metadata": {
        "id": "YXOS5531prfk"
      },
      "execution_count": null,
      "outputs": []
    },
    {
      "cell_type": "code",
      "source": [
        "class Act2Vec(nn.Module):\n",
        "    def __init__(self, \n",
        "                 n_classes=None, \n",
        "                 n_times=None,\n",
        "                 output_dim=None, \n",
        "                 embedding_dim=None, \n",
        "                 hidden_size=None, \n",
        "                 num_layers=None,\n",
        "                 num_nodes=None,\n",
        "                 dropout=None):\n",
        "        super(Act2Vec, self).__init__()\n",
        "\n",
        "        self.n_classes = n_classes\n",
        "        self.n_times = n_times\n",
        "        self.embedding_dim = embedding_dim\n",
        "        self.hidden_size = hidden_size\n",
        "        self.num_layers = num_layers\n",
        "        self.output_dim = output_dim\n",
        "        self.num_nodes = num_nodes\n",
        "        self.activation = nn.SiLU()\n",
        "        self.dropout = dropout\n",
        "        self.dropout_layer = nn.Dropout(self.dropout)\n",
        "\n",
        "        self.embed_layers = nn.ModuleList([nn.Embedding(num_embeddings=n_class,\n",
        "                                                        embedding_dim=self.embedding_dim,\n",
        "                                                        padding_idx=0) \n",
        "                                            for n_class in self.n_classes])\n",
        "        self.lstm = nn.LSTM(input_size=len(self.n_classes)*self.embedding_dim, \n",
        "                            hidden_size=self.hidden_size, \n",
        "                            num_layers=self.num_layers,\n",
        "                            batch_first=True,\n",
        "                            dropout=self.dropout)\n",
        "        self.flatten = nn.Flatten()\n",
        "\n",
        "        self.prev_num_nodes = [self.n_times*self.hidden_size] + self.num_nodes[:-1]\n",
        "        self.dense_layers = nn.ModuleList([nn.Linear(n1, n2) \n",
        "                                            for n1, n2 in zip(self.prev_num_nodes, \n",
        "                                                              self.num_nodes)])\n",
        "        self.output_layer = nn.Linear(self.num_nodes[-1], \n",
        "                                      self.output_dim)\n",
        "\n",
        "    def forward(self, x):\n",
        "        # embedding 레이어는 정수 텐서 입력을 받음\n",
        "        # Dataset에서 처리해줄거긴 한데 혹시 모르니 안전빵...\n",
        "        x = x.type(torch.LongTensor).to(device)\n",
        "\n",
        "        # output of ith feature's embedding layer.\n",
        "        embeddeds = [layer(x[:, :, i]) for i, layer in enumerate(self.embed_layers)]\n",
        "        x = torch.concat(embeddeds, dim=-1)\n",
        "\n",
        "        # lstm forward\n",
        "        h0 = torch.zeros(self.num_layers, x.size(0), self.hidden_size).to(device)\n",
        "        c0 = torch.zeros(self.num_layers, x.size(0), self.hidden_size).to(device)\n",
        "        x, _ = self.lstm(x, (h0, c0))   # x: (batch, seq_len, hidden_size)\n",
        "\n",
        "        x = self.flatten(x)\n",
        "        x = self.dropout_layer(x)\n",
        "\n",
        "        # Dense layer forward\n",
        "        for layer in self.dense_layers:\n",
        "            x = layer(x)\n",
        "            x = self.activation(x)\n",
        "            x = self.dropout_layer(x)\n",
        "\n",
        "        # output\n",
        "        out = self.output_layer(x)\n",
        "\n",
        "        return out\n",
        "\n",
        "    def embed(self, x):\n",
        "        return [layer(x[:, :, i]) for i, layer in enumerate(self.embed_layers)]"
      ],
      "metadata": {
        "id": "3hheQeBaqo3U"
      },
      "execution_count": null,
      "outputs": []
    },
    {
      "cell_type": "code",
      "source": [
        "model = torch.load('A2V.pt')\n",
        "model"
      ],
      "metadata": {
        "colab": {
          "base_uri": "https://localhost:8080/"
        },
        "id": "Cd6Xn7hvp1Uz",
        "outputId": "2745e337-c911-4dc3-f4d8-66ea60bbcc85"
      },
      "execution_count": null,
      "outputs": [
        {
          "output_type": "execute_result",
          "data": {
            "text/plain": [
              "Act2Vec(\n",
              "  (activation): SiLU()\n",
              "  (dropout_layer): Dropout(p=0.3, inplace=False)\n",
              "  (embed_layers): ModuleList(\n",
              "    (0): Embedding(9, 64, padding_idx=0)\n",
              "    (1): Embedding(4, 64, padding_idx=0)\n",
              "    (2): Embedding(7, 64, padding_idx=0)\n",
              "    (3): Embedding(4, 64, padding_idx=0)\n",
              "    (4): Embedding(3, 64, padding_idx=0)\n",
              "    (5): Embedding(7, 64, padding_idx=0)\n",
              "  )\n",
              "  (lstm): LSTM(384, 128, num_layers=3, batch_first=True, dropout=0.3)\n",
              "  (flatten): Flatten(start_dim=1, end_dim=-1)\n",
              "  (dense_layers): ModuleList(\n",
              "    (0): Linear(in_features=1280, out_features=1024, bias=True)\n",
              "    (1): Linear(in_features=1024, out_features=1024, bias=True)\n",
              "    (2): Linear(in_features=1024, out_features=1024, bias=True)\n",
              "    (3): Linear(in_features=1024, out_features=1024, bias=True)\n",
              "    (4): Linear(in_features=1024, out_features=1024, bias=True)\n",
              "  )\n",
              "  (output_layer): Linear(in_features=1024, out_features=9, bias=True)\n",
              ")"
            ]
          },
          "metadata": {},
          "execution_count": 4
        }
      ]
    },
    {
      "cell_type": "code",
      "execution_count": null,
      "metadata": {
        "id": "6b4JRsVzJFNS",
        "colab": {
          "base_uri": "https://localhost:8080/"
        },
        "outputId": "eff9346b-4519-4f87-d66b-df3334ab875a"
      },
      "outputs": [
        {
          "output_type": "stream",
          "name": "stderr",
          "text": [
            "/usr/local/lib/python3.7/dist-packages/IPython/core/interactiveshell.py:2882: DtypeWarning: Columns (9) have mixed types.Specify dtype option on import or set low_memory=False.\n",
            "  exec(code_obj, self.user_global_ns, self.user_ns)\n"
          ]
        },
        {
          "output_type": "execute_result",
          "data": {
            "text/plain": [
              "device(type='cuda', index=0)"
            ]
          },
          "metadata": {},
          "execution_count": 5
        }
      ],
      "source": [
        "act = pd.read_csv('제6회 L.POINT Big Data Competition-분석용데이터-01.온라인 행동 정보.csv')\n",
        "demo = pd.read_csv('제6회 L.POINT Big Data Competition-분석용데이터-03.고객 Demographic 정보.csv')\n",
        "act = act.sort_values(by=['clnt_id', 'sess_id', 'hit_seq'])\n",
        "act['hit_pss_tm'] = act.groupby('clnt_id')['hit_pss_tm'].diff().replace({np.nan: 0})\n",
        "act\n",
        "act = act.merge(demo, left_on='clnt_id', right_on='clnt_id', how='left')\n",
        "act\n",
        "cat_features = ['action_type', 'biz_unit', 'trfc_src', 'dvc_ctg_nm', 'clnt_gender', 'clnt_age']\n",
        "numeric_features = ['hit_pss_tm', 'tot_pag_view_ct', 'tot_sess_hr_v']\n",
        "# tokenizing\n",
        "token = {\n",
        "'action_type': {'unknown': 0,\n",
        "                '검색': 1,\n",
        "                '제품 목록': 2, \n",
        "                '제품 세부정보': 3,\n",
        "                '장바구니 추가': 4,\n",
        "                '장바구니 삭제': 5,\n",
        "                '결제 시도': 6,\n",
        "                '구매 완료': 7,\n",
        "                '구매 환불': 8},\n",
        "'biz_unit': {'unknown': 0,\n",
        "             'A01': 1, \n",
        "             'A02': 2, \n",
        "             'A03': 3},\n",
        "'trfc_src': {'unknown': 0, \n",
        "             'DIRECT': 1, \n",
        "             'PUSH': 2, \n",
        "             'PORTAL_1': 3, \n",
        "             'WEBSITE': 4, \n",
        "             'PORTAL_2': 5,\n",
        "             'PORTAL_3': 6},\n",
        "'dvc_ctg_nm': {'unknown': 0,\n",
        "               'mobile_app': 1,\n",
        "               'mobile_web': 2,\n",
        "               'PC': 3},\n",
        "'clnt_gender': {'unknown': 0,\n",
        "                'F': 1,\n",
        "                'M': 2},\n",
        "'clnt_age': {'unknown': 0,\n",
        "             '10': 1,\n",
        "             '20': 2,\n",
        "             '30': 3,\n",
        "             '40': 4,\n",
        "             '50': 5,\n",
        "             '60': 6,}\n",
        "}\n",
        "act['action_type'] = act['action_type'] + 1 # action_type 0: padding \n",
        "act['biz_unit'] = act['biz_unit'].replace(token['biz_unit'])\n",
        "act['trfc_src'] = act['trfc_src'].replace(token['trfc_src'])\n",
        "act['dvc_ctg_nm'] = act['dvc_ctg_nm'].replace(np.nan, 'unknown').replace(token['dvc_ctg_nm'])\n",
        "act['clnt_gender'] = act['clnt_gender'].replace(token['clnt_gender'])\n",
        "act['clnt_age'] = act['clnt_age'].replace(token['clnt_age'])\n",
        "# 'action_type', 'hit_seq', 'biz_unit' 는 패딩idx 0의 값이 없지만, \n",
        "# 있을거라고 가정해서 범주 개수를 1개 늘려줘야함\n",
        "n_classes = [9, 4, 7, 4, 3, 7]\n",
        "# n_times 기간의 action_type 시퀀스를 이용해\n",
        "# 다음 predict_period 스텝의 action_type을 예측하는 task로\n",
        "# 따라서 최소 n_times + predict_period 개의 데이터가 있어야 함\n",
        "\n",
        "n_times = 10\n",
        "predict_period = 1\n",
        "X, y = [], []\n",
        "def make_seq(x, target_col='action_type'):\n",
        "    # 최소 n_times + predict_period 개의 데이터가 있는 것에 한해서,\n",
        "    if len(x) >= n_times + predict_period:\n",
        "        # with sliding window trick\n",
        "        I_src = np.arange(n_times).reshape(1, -1)\n",
        "        S_src = np.arange(len(x)-n_times-predict_period+1).reshape(-1, 1)\n",
        "        src = x.values[I_src+S_src]\n",
        "\n",
        "        I_trg = np.arange(predict_period).reshape(1, -1)\n",
        "        S_trg = np.arange(n_times, len(x)).reshape(-1, 1)\n",
        "        trg = x[target_col].values[I_trg+S_trg]\n",
        "\n",
        "        X.append(src)\n",
        "        y.append(trg)\n",
        "\n",
        "# sess_id 별로 시퀀스 생성 -> 10초만에 끝!\n",
        "(act[['clnt_id', 'sess_id']+cat_features+numeric_features]\n",
        " .groupby(['clnt_id', 'sess_id'])\n",
        " .apply(lambda x: make_seq(x)))\n",
        "\n",
        "X = np.concatenate(X, axis=0)[:, :, 2:] # index 0,1 of last dim is clnt_id, sess_id\n",
        "y = np.concatenate(y, axis=0)\n",
        "X.shape, y.shape\n",
        "\n",
        "from sklearn.model_selection import train_test_split\n",
        "\n",
        "X_train, X_test, y_train, y_test = train_test_split(X, y, \n",
        "                                                    train_size=0.7, \n",
        "                                                    random_state=96,\n",
        "                                                    stratify=y)\n",
        "X_val, X_test, y_val, y_test = train_test_split(X_test, y_test, \n",
        "                                                train_size=0.5, \n",
        "                                                random_state=96,\n",
        "                                                stratify=y_test)\n",
        "X_train.shape, X_val.shape, X_test.shape, y_train.shape, y_val.shape, y_test.shape\n",
        "device = torch.device('cuda:0' if torch.cuda.is_available() else 'cpu')\n",
        "device"
      ]
    },
    {
      "cell_type": "code",
      "execution_count": null,
      "metadata": {
        "id": "buEBWuaoPhmU"
      },
      "outputs": [],
      "source": [
        "class ActDataset(Dataset):\n",
        "    def __init__(self, x, y):\n",
        "        self.x = torch.LongTensor(x)\n",
        "        self.y = torch.LongTensor(y)\n",
        "\n",
        "    def __len__(self):\n",
        "        return len(self.x)\n",
        "\n",
        "    def __getitem__(self, idx):\n",
        "        return self.x[idx], self.y[idx]"
      ]
    },
    {
      "cell_type": "code",
      "execution_count": null,
      "metadata": {
        "id": "hb-Rg2ibPald"
      },
      "outputs": [],
      "source": [
        "test_ds = ActDataset(X_test, y_test)"
      ]
    },
    {
      "cell_type": "code",
      "execution_count": null,
      "metadata": {
        "id": "Qxi2t67SNyyi"
      },
      "outputs": [],
      "source": [
        "BATCH_SIZE = 1024\n",
        "test_dl = DataLoader(test_ds, batch_size=BATCH_SIZE)"
      ]
    },
    {
      "cell_type": "code",
      "source": [
        "from tqdm import tqdm"
      ],
      "metadata": {
        "id": "QTnjYPoCtfHT"
      },
      "execution_count": null,
      "outputs": []
    },
    {
      "cell_type": "code",
      "source": [
        "model.eval()\n",
        "\n",
        "y_pred = []\n",
        "with torch.no_grad():\n",
        "    for data, label in tqdm(test_dl):\n",
        "        outputs = model(data.to(device))\n",
        "        _, predicted = torch.max(outputs.data, 1)\n",
        "        y_pred.append(predicted)\n",
        "y_pred"
      ],
      "metadata": {
        "colab": {
          "base_uri": "https://localhost:8080/"
        },
        "id": "SayD15ENsuyJ",
        "outputId": "1e90496b-66f2-4e37-ef4b-a6d6a493bd42"
      },
      "execution_count": null,
      "outputs": [
        {
          "output_type": "stream",
          "name": "stderr",
          "text": [
            "100%|██████████| 227/227 [00:02<00:00, 93.04it/s] \n"
          ]
        },
        {
          "output_type": "execute_result",
          "data": {
            "text/plain": [
              "[tensor([5, 6, 3,  ..., 2, 4, 2], device='cuda:0'),\n",
              " tensor([1, 3, 6,  ..., 3, 3, 6], device='cuda:0'),\n",
              " tensor([4, 6, 6,  ..., 4, 1, 6], device='cuda:0'),\n",
              " tensor([1, 3, 6,  ..., 6, 6, 4], device='cuda:0'),\n",
              " tensor([4, 6, 6,  ..., 4, 1, 6], device='cuda:0'),\n",
              " tensor([1, 6, 2,  ..., 5, 1, 6], device='cuda:0'),\n",
              " tensor([2, 2, 6,  ..., 6, 3, 6], device='cuda:0'),\n",
              " tensor([3, 6, 1,  ..., 2, 4, 6], device='cuda:0'),\n",
              " tensor([3, 6, 4,  ..., 5, 4, 1], device='cuda:0'),\n",
              " tensor([6, 4, 6,  ..., 5, 3, 6], device='cuda:0'),\n",
              " tensor([4, 1, 6,  ..., 6, 5, 1], device='cuda:0'),\n",
              " tensor([1, 6, 4,  ..., 5, 1, 6], device='cuda:0'),\n",
              " tensor([2, 6, 4,  ..., 4, 3, 4], device='cuda:0'),\n",
              " tensor([4, 6, 6,  ..., 6, 6, 6], device='cuda:0'),\n",
              " tensor([6, 6, 1,  ..., 4, 3, 1], device='cuda:0'),\n",
              " tensor([6, 6, 1,  ..., 3, 4, 6], device='cuda:0'),\n",
              " tensor([1, 3, 4,  ..., 4, 1, 4], device='cuda:0'),\n",
              " tensor([6, 4, 3,  ..., 6, 3, 3], device='cuda:0'),\n",
              " tensor([3, 4, 1,  ..., 6, 3, 3], device='cuda:0'),\n",
              " tensor([6, 1, 6,  ..., 1, 6, 6], device='cuda:0'),\n",
              " tensor([3, 6, 6,  ..., 4, 5, 4], device='cuda:0'),\n",
              " tensor([3, 6, 6,  ..., 1, 1, 6], device='cuda:0'),\n",
              " tensor([6, 3, 3,  ..., 5, 4, 3], device='cuda:0'),\n",
              " tensor([1, 6, 4,  ..., 6, 6, 2], device='cuda:0'),\n",
              " tensor([3, 6, 6,  ..., 3, 4, 6], device='cuda:0'),\n",
              " tensor([6, 1, 6,  ..., 4, 6, 4], device='cuda:0'),\n",
              " tensor([1, 6, 4,  ..., 6, 1, 6], device='cuda:0'),\n",
              " tensor([1, 4, 6,  ..., 2, 4, 6], device='cuda:0'),\n",
              " tensor([5, 6, 6,  ..., 1, 4, 6], device='cuda:0'),\n",
              " tensor([2, 6, 6,  ..., 6, 4, 6], device='cuda:0'),\n",
              " tensor([1, 1, 6,  ..., 6, 4, 5], device='cuda:0'),\n",
              " tensor([3, 1, 4,  ..., 1, 6, 6], device='cuda:0'),\n",
              " tensor([1, 3, 6,  ..., 6, 5, 6], device='cuda:0'),\n",
              " tensor([4, 6, 6,  ..., 6, 4, 4], device='cuda:0'),\n",
              " tensor([1, 4, 5,  ..., 6, 6, 4], device='cuda:0'),\n",
              " tensor([1, 6, 1,  ..., 1, 1, 2], device='cuda:0'),\n",
              " tensor([6, 3, 1,  ..., 4, 1, 4], device='cuda:0'),\n",
              " tensor([1, 4, 6,  ..., 3, 6, 5], device='cuda:0'),\n",
              " tensor([4, 6, 4,  ..., 2, 6, 6], device='cuda:0'),\n",
              " tensor([1, 4, 2,  ..., 1, 4, 3], device='cuda:0'),\n",
              " tensor([3, 6, 6,  ..., 6, 5, 3], device='cuda:0'),\n",
              " tensor([4, 6, 6,  ..., 6, 4, 1], device='cuda:0'),\n",
              " tensor([3, 6, 1,  ..., 6, 1, 3], device='cuda:0'),\n",
              " tensor([6, 6, 1,  ..., 1, 3, 4], device='cuda:0'),\n",
              " tensor([6, 3, 5,  ..., 4, 5, 6], device='cuda:0'),\n",
              " tensor([6, 4, 3,  ..., 4, 6, 3], device='cuda:0'),\n",
              " tensor([4, 4, 1,  ..., 1, 4, 1], device='cuda:0'),\n",
              " tensor([2, 5, 1,  ..., 1, 6, 6], device='cuda:0'),\n",
              " tensor([6, 3, 5,  ..., 3, 6, 6], device='cuda:0'),\n",
              " tensor([4, 2, 3,  ..., 6, 1, 6], device='cuda:0'),\n",
              " tensor([4, 6, 4,  ..., 6, 3, 6], device='cuda:0'),\n",
              " tensor([4, 6, 3,  ..., 5, 6, 4], device='cuda:0'),\n",
              " tensor([6, 1, 6,  ..., 4, 6, 1], device='cuda:0'),\n",
              " tensor([1, 6, 1,  ..., 4, 5, 4], device='cuda:0'),\n",
              " tensor([1, 4, 5,  ..., 6, 4, 4], device='cuda:0'),\n",
              " tensor([6, 6, 2,  ..., 4, 1, 6], device='cuda:0'),\n",
              " tensor([6, 4, 5,  ..., 5, 3, 6], device='cuda:0'),\n",
              " tensor([6, 5, 4,  ..., 6, 2, 5], device='cuda:0'),\n",
              " tensor([6, 3, 6,  ..., 3, 6, 3], device='cuda:0'),\n",
              " tensor([4, 1, 4,  ..., 2, 1, 5], device='cuda:0'),\n",
              " tensor([6, 4, 1,  ..., 1, 1, 4], device='cuda:0'),\n",
              " tensor([6, 2, 6,  ..., 6, 6, 2], device='cuda:0'),\n",
              " tensor([1, 3, 1,  ..., 1, 3, 6], device='cuda:0'),\n",
              " tensor([2, 1, 1,  ..., 3, 4, 6], device='cuda:0'),\n",
              " tensor([4, 3, 6,  ..., 4, 1, 1], device='cuda:0'),\n",
              " tensor([3, 6, 1,  ..., 1, 6, 6], device='cuda:0'),\n",
              " tensor([6, 6, 2,  ..., 6, 6, 1], device='cuda:0'),\n",
              " tensor([6, 6, 6,  ..., 1, 3, 6], device='cuda:0'),\n",
              " tensor([7, 6, 4,  ..., 6, 6, 6], device='cuda:0'),\n",
              " tensor([6, 1, 2,  ..., 2, 6, 4], device='cuda:0'),\n",
              " tensor([3, 1, 3,  ..., 6, 3, 6], device='cuda:0'),\n",
              " tensor([6, 1, 5,  ..., 4, 4, 1], device='cuda:0'),\n",
              " tensor([1, 6, 4,  ..., 6, 3, 3], device='cuda:0'),\n",
              " tensor([6, 6, 1,  ..., 1, 6, 1], device='cuda:0'),\n",
              " tensor([2, 1, 4,  ..., 6, 5, 6], device='cuda:0'),\n",
              " tensor([6, 4, 6,  ..., 7, 6, 3], device='cuda:0'),\n",
              " tensor([6, 2, 1,  ..., 5, 4, 4], device='cuda:0'),\n",
              " tensor([3, 1, 6,  ..., 1, 6, 6], device='cuda:0'),\n",
              " tensor([1, 1, 6,  ..., 5, 1, 6], device='cuda:0'),\n",
              " tensor([6, 6, 6,  ..., 6, 4, 1], device='cuda:0'),\n",
              " tensor([6, 5, 6,  ..., 6, 3, 6], device='cuda:0'),\n",
              " tensor([5, 4, 6,  ..., 3, 6, 6], device='cuda:0'),\n",
              " tensor([2, 1, 6,  ..., 5, 4, 6], device='cuda:0'),\n",
              " tensor([3, 6, 3,  ..., 6, 3, 6], device='cuda:0'),\n",
              " tensor([5, 4, 6,  ..., 1, 5, 6], device='cuda:0'),\n",
              " tensor([4, 3, 3,  ..., 3, 1, 5], device='cuda:0'),\n",
              " tensor([3, 6, 4,  ..., 4, 6, 4], device='cuda:0'),\n",
              " tensor([3, 2, 6,  ..., 6, 2, 6], device='cuda:0'),\n",
              " tensor([6, 6, 3,  ..., 3, 6, 3], device='cuda:0'),\n",
              " tensor([4, 2, 6,  ..., 6, 6, 4], device='cuda:0'),\n",
              " tensor([6, 3, 6,  ..., 1, 5, 6], device='cuda:0'),\n",
              " tensor([5, 3, 3,  ..., 6, 6, 6], device='cuda:0'),\n",
              " tensor([1, 6, 3,  ..., 4, 6, 3], device='cuda:0'),\n",
              " tensor([6, 3, 3,  ..., 6, 6, 3], device='cuda:0'),\n",
              " tensor([6, 6, 5,  ..., 1, 4, 5], device='cuda:0'),\n",
              " tensor([1, 6, 6,  ..., 6, 3, 6], device='cuda:0'),\n",
              " tensor([3, 1, 1,  ..., 5, 1, 6], device='cuda:0'),\n",
              " tensor([1, 6, 1,  ..., 1, 4, 6], device='cuda:0'),\n",
              " tensor([4, 1, 4,  ..., 1, 6, 6], device='cuda:0'),\n",
              " tensor([1, 1, 5,  ..., 4, 4, 3], device='cuda:0'),\n",
              " tensor([5, 6, 6,  ..., 6, 5, 1], device='cuda:0'),\n",
              " tensor([6, 4, 1,  ..., 6, 6, 1], device='cuda:0'),\n",
              " tensor([4, 3, 6,  ..., 6, 4, 1], device='cuda:0'),\n",
              " tensor([4, 4, 5,  ..., 6, 6, 6], device='cuda:0'),\n",
              " tensor([3, 3, 6,  ..., 6, 6, 6], device='cuda:0'),\n",
              " tensor([4, 4, 4,  ..., 3, 1, 6], device='cuda:0'),\n",
              " tensor([4, 1, 6,  ..., 6, 1, 6], device='cuda:0'),\n",
              " tensor([1, 3, 3,  ..., 6, 2, 6], device='cuda:0'),\n",
              " tensor([1, 6, 6,  ..., 1, 5, 2], device='cuda:0'),\n",
              " tensor([1, 3, 2,  ..., 1, 1, 6], device='cuda:0'),\n",
              " tensor([6, 4, 5,  ..., 6, 6, 1], device='cuda:0'),\n",
              " tensor([6, 3, 6,  ..., 1, 1, 6], device='cuda:0'),\n",
              " tensor([6, 5, 4,  ..., 4, 1, 2], device='cuda:0'),\n",
              " tensor([6, 1, 2,  ..., 1, 6, 1], device='cuda:0'),\n",
              " tensor([1, 4, 1,  ..., 1, 4, 1], device='cuda:0'),\n",
              " tensor([3, 3, 3,  ..., 6, 1, 4], device='cuda:0'),\n",
              " tensor([5, 4, 4,  ..., 1, 3, 6], device='cuda:0'),\n",
              " tensor([6, 6, 5,  ..., 6, 4, 5], device='cuda:0'),\n",
              " tensor([5, 3, 6,  ..., 6, 1, 4], device='cuda:0'),\n",
              " tensor([1, 6, 4,  ..., 3, 3, 6], device='cuda:0'),\n",
              " tensor([6, 5, 1,  ..., 6, 6, 3], device='cuda:0'),\n",
              " tensor([6, 6, 5,  ..., 1, 6, 4], device='cuda:0'),\n",
              " tensor([6, 6, 1,  ..., 6, 4, 4], device='cuda:0'),\n",
              " tensor([6, 6, 1,  ..., 6, 6, 1], device='cuda:0'),\n",
              " tensor([5, 3, 2,  ..., 6, 2, 6], device='cuda:0'),\n",
              " tensor([5, 6, 2,  ..., 6, 5, 2], device='cuda:0'),\n",
              " tensor([6, 4, 2,  ..., 5, 4, 4], device='cuda:0'),\n",
              " tensor([6, 6, 4,  ..., 6, 3, 3], device='cuda:0'),\n",
              " tensor([2, 6, 6,  ..., 6, 6, 6], device='cuda:0'),\n",
              " tensor([6, 1, 6,  ..., 6, 4, 5], device='cuda:0'),\n",
              " tensor([6, 4, 3,  ..., 3, 3, 6], device='cuda:0'),\n",
              " tensor([4, 1, 4,  ..., 5, 6, 2], device='cuda:0'),\n",
              " tensor([6, 3, 3,  ..., 6, 3, 6], device='cuda:0'),\n",
              " tensor([6, 4, 3,  ..., 6, 6, 3], device='cuda:0'),\n",
              " tensor([6, 3, 6,  ..., 6, 6, 4], device='cuda:0'),\n",
              " tensor([1, 4, 6,  ..., 4, 6, 6], device='cuda:0'),\n",
              " tensor([6, 6, 6,  ..., 1, 4, 3], device='cuda:0'),\n",
              " tensor([1, 4, 3,  ..., 5, 6, 2], device='cuda:0'),\n",
              " tensor([6, 2, 4,  ..., 1, 3, 2], device='cuda:0'),\n",
              " tensor([3, 4, 2,  ..., 3, 4, 2], device='cuda:0'),\n",
              " tensor([1, 6, 6,  ..., 4, 6, 1], device='cuda:0'),\n",
              " tensor([6, 6, 5,  ..., 6, 1, 6], device='cuda:0'),\n",
              " tensor([1, 6, 6,  ..., 4, 6, 1], device='cuda:0'),\n",
              " tensor([4, 4, 6,  ..., 1, 6, 6], device='cuda:0'),\n",
              " tensor([1, 6, 3,  ..., 6, 5, 2], device='cuda:0'),\n",
              " tensor([4, 2, 2,  ..., 6, 6, 3], device='cuda:0'),\n",
              " tensor([5, 4, 1,  ..., 1, 6, 4], device='cuda:0'),\n",
              " tensor([6, 1, 6,  ..., 6, 6, 4], device='cuda:0'),\n",
              " tensor([7, 4, 3,  ..., 6, 1, 6], device='cuda:0'),\n",
              " tensor([4, 6, 6,  ..., 6, 4, 6], device='cuda:0'),\n",
              " tensor([1, 5, 3,  ..., 3, 6, 3], device='cuda:0'),\n",
              " tensor([6, 6, 5,  ..., 5, 4, 5], device='cuda:0'),\n",
              " tensor([4, 6, 6,  ..., 4, 1, 4], device='cuda:0'),\n",
              " tensor([1, 3, 1,  ..., 2, 5, 3], device='cuda:0'),\n",
              " tensor([3, 3, 6,  ..., 4, 4, 2], device='cuda:0'),\n",
              " tensor([1, 6, 6,  ..., 6, 1, 4], device='cuda:0'),\n",
              " tensor([3, 6, 6,  ..., 1, 3, 4], device='cuda:0'),\n",
              " tensor([4, 6, 6,  ..., 3, 1, 1], device='cuda:0'),\n",
              " tensor([5, 6, 4,  ..., 3, 1, 2], device='cuda:0'),\n",
              " tensor([6, 3, 4,  ..., 6, 6, 6], device='cuda:0'),\n",
              " tensor([3, 4, 3,  ..., 6, 4, 4], device='cuda:0'),\n",
              " tensor([6, 6, 1,  ..., 6, 3, 5], device='cuda:0'),\n",
              " tensor([6, 6, 6,  ..., 4, 6, 4], device='cuda:0'),\n",
              " tensor([6, 6, 6,  ..., 5, 6, 4], device='cuda:0'),\n",
              " tensor([2, 4, 5,  ..., 6, 6, 6], device='cuda:0'),\n",
              " tensor([6, 6, 6,  ..., 6, 3, 6], device='cuda:0'),\n",
              " tensor([6, 6, 6,  ..., 3, 4, 1], device='cuda:0'),\n",
              " tensor([1, 6, 1,  ..., 6, 5, 4], device='cuda:0'),\n",
              " tensor([6, 1, 6,  ..., 3, 4, 6], device='cuda:0'),\n",
              " tensor([3, 6, 6,  ..., 6, 3, 6], device='cuda:0'),\n",
              " tensor([4, 3, 6,  ..., 4, 1, 2], device='cuda:0'),\n",
              " tensor([3, 6, 6,  ..., 4, 4, 1], device='cuda:0'),\n",
              " tensor([1, 5, 4,  ..., 6, 4, 6], device='cuda:0'),\n",
              " tensor([4, 4, 6,  ..., 1, 1, 6], device='cuda:0'),\n",
              " tensor([4, 1, 6,  ..., 2, 6, 1], device='cuda:0'),\n",
              " tensor([2, 3, 4,  ..., 6, 4, 4], device='cuda:0'),\n",
              " tensor([2, 6, 6,  ..., 6, 6, 3], device='cuda:0'),\n",
              " tensor([6, 1, 6,  ..., 5, 1, 1], device='cuda:0'),\n",
              " tensor([4, 6, 6,  ..., 4, 6, 6], device='cuda:0'),\n",
              " tensor([1, 6, 2,  ..., 7, 1, 4], device='cuda:0'),\n",
              " tensor([4, 6, 2,  ..., 6, 6, 1], device='cuda:0'),\n",
              " tensor([6, 3, 5,  ..., 4, 4, 3], device='cuda:0'),\n",
              " tensor([6, 3, 5,  ..., 6, 1, 6], device='cuda:0'),\n",
              " tensor([1, 1, 6,  ..., 3, 6, 1], device='cuda:0'),\n",
              " tensor([2, 3, 2,  ..., 4, 4, 1], device='cuda:0'),\n",
              " tensor([3, 3, 2,  ..., 1, 3, 1], device='cuda:0'),\n",
              " tensor([6, 1, 4,  ..., 3, 4, 6], device='cuda:0'),\n",
              " tensor([1, 6, 2,  ..., 6, 1, 6], device='cuda:0'),\n",
              " tensor([5, 3, 3,  ..., 4, 1, 1], device='cuda:0'),\n",
              " tensor([6, 6, 1,  ..., 6, 4, 6], device='cuda:0'),\n",
              " tensor([3, 1, 6,  ..., 6, 1, 6], device='cuda:0'),\n",
              " tensor([6, 4, 1,  ..., 6, 4, 3], device='cuda:0'),\n",
              " tensor([4, 1, 3,  ..., 1, 1, 1], device='cuda:0'),\n",
              " tensor([1, 4, 4,  ..., 6, 5, 5], device='cuda:0'),\n",
              " tensor([6, 6, 6,  ..., 4, 6, 4], device='cuda:0'),\n",
              " tensor([6, 4, 6,  ..., 4, 1, 1], device='cuda:0'),\n",
              " tensor([1, 6, 6,  ..., 6, 1, 4], device='cuda:0'),\n",
              " tensor([4, 2, 3,  ..., 6, 3, 6], device='cuda:0'),\n",
              " tensor([3, 1, 1,  ..., 6, 4, 1], device='cuda:0'),\n",
              " tensor([3, 3, 4,  ..., 6, 4, 6], device='cuda:0'),\n",
              " tensor([5, 6, 3,  ..., 4, 3, 1], device='cuda:0'),\n",
              " tensor([6, 6, 4,  ..., 3, 6, 6], device='cuda:0'),\n",
              " tensor([1, 6, 4,  ..., 6, 4, 6], device='cuda:0'),\n",
              " tensor([5, 6, 4,  ..., 3, 5, 6], device='cuda:0'),\n",
              " tensor([4, 1, 1,  ..., 6, 6, 4], device='cuda:0'),\n",
              " tensor([4, 4, 1,  ..., 2, 3, 6], device='cuda:0'),\n",
              " tensor([6, 6, 6,  ..., 6, 4, 1], device='cuda:0'),\n",
              " tensor([6, 1, 3,  ..., 4, 6, 1], device='cuda:0'),\n",
              " tensor([6, 3, 1,  ..., 2, 1, 6], device='cuda:0'),\n",
              " tensor([2, 4, 5,  ..., 6, 4, 5], device='cuda:0'),\n",
              " tensor([3, 1, 1,  ..., 4, 6, 1], device='cuda:0'),\n",
              " tensor([4, 6, 6,  ..., 4, 6, 1], device='cuda:0'),\n",
              " tensor([4, 6, 4,  ..., 2, 1, 5], device='cuda:0'),\n",
              " tensor([6, 6, 1,  ..., 3, 3, 4], device='cuda:0'),\n",
              " tensor([1, 3, 3,  ..., 3, 1, 6], device='cuda:0'),\n",
              " tensor([4, 4, 6,  ..., 6, 1, 1], device='cuda:0'),\n",
              " tensor([3, 4, 6,  ..., 6, 4, 6], device='cuda:0'),\n",
              " tensor([2, 3, 1,  ..., 1, 6, 6], device='cuda:0'),\n",
              " tensor([4, 5, 6,  ..., 1, 5, 4], device='cuda:0'),\n",
              " tensor([3, 1, 6,  ..., 4, 4, 1], device='cuda:0'),\n",
              " tensor([1, 4, 4,  ..., 6, 3, 4], device='cuda:0'),\n",
              " tensor([6, 6, 5,  ..., 6, 3, 6], device='cuda:0'),\n",
              " tensor([3, 6, 3,  ..., 3, 3, 6], device='cuda:0'),\n",
              " tensor([6, 1, 1,  ..., 4, 6, 2], device='cuda:0'),\n",
              " tensor([6, 6, 6,  ..., 4, 5, 1], device='cuda:0'),\n",
              " tensor([6, 3, 6,  ..., 6, 6, 6], device='cuda:0'),\n",
              " tensor([6, 1, 6,  ..., 6, 6, 6], device='cuda:0')]"
            ]
          },
          "metadata": {},
          "execution_count": 10
        }
      ]
    },
    {
      "cell_type": "code",
      "source": [
        "y_pred = torch.cat(y_pred)\n",
        "y_pred.size()"
      ],
      "metadata": {
        "colab": {
          "base_uri": "https://localhost:8080/"
        },
        "id": "jG22yBJRtHCw",
        "outputId": "961ca7ba-7aea-479f-c8bb-22f06feb2b44"
      },
      "execution_count": null,
      "outputs": [
        {
          "output_type": "execute_result",
          "data": {
            "text/plain": [
              "torch.Size([232433])"
            ]
          },
          "metadata": {},
          "execution_count": 11
        }
      ]
    },
    {
      "cell_type": "code",
      "source": [
        "y_pred = y_pred.cpu().numpy()\n",
        "y_pred = y_pred - 1\n",
        "np.save('y_pred.npy', y_pred)\n",
        "y_pred.shape"
      ],
      "metadata": {
        "colab": {
          "base_uri": "https://localhost:8080/"
        },
        "id": "eliHsRqnvemC",
        "outputId": "e2579dbf-5311-4c5a-ad64-cd26aa5e3a16"
      },
      "execution_count": null,
      "outputs": [
        {
          "output_type": "execute_result",
          "data": {
            "text/plain": [
              "(232433,)"
            ]
          },
          "metadata": {},
          "execution_count": 12
        }
      ]
    },
    {
      "cell_type": "code",
      "source": [
        "np.unique(y_pred)"
      ],
      "metadata": {
        "colab": {
          "base_uri": "https://localhost:8080/"
        },
        "id": "CoSwNoNNeFaJ",
        "outputId": "0d870eb6-5cbe-4e5a-b637-8b3c11a1a28f"
      },
      "execution_count": null,
      "outputs": [
        {
          "output_type": "execute_result",
          "data": {
            "text/plain": [
              "array([0, 1, 2, 3, 4, 5, 6, 7])"
            ]
          },
          "metadata": {},
          "execution_count": 13
        }
      ]
    },
    {
      "cell_type": "code",
      "source": [
        "y_test = np.squeeze(y_test)\n",
        "y_test = y_test - 1\n",
        "y_test.shape"
      ],
      "metadata": {
        "colab": {
          "base_uri": "https://localhost:8080/"
        },
        "id": "qoG-j_NUvm58",
        "outputId": "fee1f067-31f4-496f-f2db-12ec270d82e6"
      },
      "execution_count": null,
      "outputs": [
        {
          "output_type": "execute_result",
          "data": {
            "text/plain": [
              "(232433,)"
            ]
          },
          "metadata": {},
          "execution_count": 14
        }
      ]
    },
    {
      "cell_type": "code",
      "source": [
        "np.unique(y_test)"
      ],
      "metadata": {
        "colab": {
          "base_uri": "https://localhost:8080/"
        },
        "id": "6jfY6DYleTtQ",
        "outputId": "2a81df2d-f47f-48e4-ec5b-9dde91c5e6cb"
      },
      "execution_count": null,
      "outputs": [
        {
          "output_type": "execute_result",
          "data": {
            "text/plain": [
              "array([0, 1, 2, 3, 4, 5, 6, 7])"
            ]
          },
          "metadata": {},
          "execution_count": 15
        }
      ]
    },
    {
      "cell_type": "code",
      "source": [
        "from sklearn.metrics import f1_score\n",
        "from sklearn.metrics import confusion_matrix"
      ],
      "metadata": {
        "id": "TKESI0F9vo-V"
      },
      "execution_count": null,
      "outputs": []
    },
    {
      "cell_type": "code",
      "source": [
        "f1 = f1_score(y_test, y_pred, average='weighted')\n",
        "f1"
      ],
      "metadata": {
        "colab": {
          "base_uri": "https://localhost:8080/"
        },
        "id": "gs_jkR_gv_Am",
        "outputId": "0d5ef6eb-7d38-47a5-a3d0-d4005c3b3b06"
      },
      "execution_count": null,
      "outputs": [
        {
          "output_type": "execute_result",
          "data": {
            "text/plain": [
              "0.6100383820373279"
            ]
          },
          "metadata": {},
          "execution_count": 17
        }
      ]
    },
    {
      "cell_type": "code",
      "source": [
        "cm = confusion_matrix(y_test, y_pred)\n",
        "cm"
      ],
      "metadata": {
        "colab": {
          "base_uri": "https://localhost:8080/"
        },
        "id": "ZtsNa1OqwMGC",
        "outputId": "ab9f4d9a-b8f0-47d2-b1df-d43b10e4f720"
      },
      "execution_count": null,
      "outputs": [
        {
          "output_type": "execute_result",
          "data": {
            "text/plain": [
              "array([[23398,  1952,   677,  5898,  1291,  6471,     7,     1],\n",
              "       [ 3816,  7614,  1803,  3712,  1215,  4381,     5,     1],\n",
              "       [ 1748,  1327, 25528,  2418,   229,  2490,    49,     3],\n",
              "       [ 9637,  1642,   381, 24710,   647,  4777,     8,     0],\n",
              "       [  297,   546,   140,   586,  7103,  7953,     0,     0],\n",
              "       [ 5143,  1308,  1193,  6299,  3838, 55358,    65,     1],\n",
              "       [   79,    80,   239,    21,     2,  3900,   184,     2],\n",
              "       [    5,    22,   100,     8,     0,    69,     0,    56]])"
            ]
          },
          "metadata": {},
          "execution_count": 18
        }
      ]
    },
    {
      "cell_type": "code",
      "source": [
        "import matplotlib as mpl\n",
        "mpl.rcParams[\"figure.facecolor\"] = 'white'"
      ],
      "metadata": {
        "id": "YJv3FzeEzG-e"
      },
      "execution_count": null,
      "outputs": []
    },
    {
      "cell_type": "code",
      "source": [
        "import seaborn as sns \n",
        "\n",
        "plt.figure(figsize=(7, 7))\n",
        "sns.heatmap(cm, annot=True, fmt=\"d\")\n",
        "plt.xlabel('pred')\n",
        "plt.ylabel('true')\n",
        "plt.show()"
      ],
      "metadata": {
        "colab": {
          "base_uri": "https://localhost:8080/",
          "height": 442
        },
        "id": "6vTkG_79wUOe",
        "outputId": "9f59808f-d4b9-443b-f72a-2271ea69267e"
      },
      "execution_count": null,
      "outputs": [
        {
          "output_type": "display_data",
          "data": {
            "text/plain": [
              "<Figure size 504x504 with 2 Axes>"
            ],
            "image/png": "[encoded data removed]"
          },
          "metadata": {}
        }
      ]
    },
    {
      "cell_type": "code",
      "source": [
        "_, d = np.unique(y_test, return_counts=True)\n",
        "np.around(d / d.sum(), 4)"
      ],
      "metadata": {
        "colab": {
          "base_uri": "https://localhost:8080/"
        },
        "id": "7b_fCYuYClEO",
        "outputId": "1947ec9b-a689-4fd7-9243-bd342f5b3a75"
      },
      "execution_count": null,
      "outputs": [
        {
          "output_type": "execute_result",
          "data": {
            "text/plain": [
              "array([0.1708, 0.097 , 0.1454, 0.1798, 0.0715, 0.315 , 0.0194, 0.0011])"
            ]
          },
          "metadata": {},
          "execution_count": 21
        }
      ]
    },
    {
      "cell_type": "code",
      "source": [
        "y_test"
      ],
      "metadata": {
        "colab": {
          "base_uri": "https://localhost:8080/"
        },
        "id": "lWhM4gvYEuAZ",
        "outputId": "0d3410a2-5513-47fd-c246-511c7356abb5"
      },
      "execution_count": null,
      "outputs": [
        {
          "output_type": "execute_result",
          "data": {
            "text/plain": [
              "array([4, 1, 6, ..., 0, 5, 0])"
            ]
          },
          "metadata": {},
          "execution_count": 22
        }
      ]
    },
    {
      "cell_type": "code",
      "source": [
        "plt.hist(y_test, range(8), color='gold')"
      ],
      "metadata": {
        "colab": {
          "base_uri": "https://localhost:8080/",
          "height": 321
        },
        "id": "ZGiMLA_REOIm",
        "outputId": "90e4d5d4-49e9-44fc-9512-20d4d9876d7d"
      },
      "execution_count": null,
      "outputs": [
        {
          "output_type": "execute_result",
          "data": {
            "text/plain": [
              "(array([39695., 22547., 33792., 41802., 16625., 73205.,  4767.]),\n",
              " array([0, 1, 2, 3, 4, 5, 6, 7]),\n",
              " <a list of 7 Patch objects>)"
            ]
          },
          "metadata": {},
          "execution_count": 26
        },
        {
          "output_type": "display_data",
          "data": {
            "text/plain": [
              "<Figure size 432x288 with 1 Axes>"
            ],
            "image/png": "[encoded data removed]"
          },
          "metadata": {}
        }
      ]
    },
    {
      "cell_type": "code",
      "source": [
        "plt.hist(np.repeat([1,2,3], [15565, 7813, 492]), [1,2,3,4], color='gold')"
      ],
      "metadata": {
        "colab": {
          "base_uri": "https://localhost:8080/",
          "height": 321
        },
        "id": "To2ORpuNES89",
        "outputId": "a47c8958-ce88-4af8-8826-836b45051b41"
      },
      "execution_count": null,
      "outputs": [
        {
          "output_type": "execute_result",
          "data": {
            "text/plain": [
              "(array([15565.,  7813.,   492.]),\n",
              " array([1, 2, 3, 4]),\n",
              " <a list of 3 Patch objects>)"
            ]
          },
          "metadata": {},
          "execution_count": 28
        },
        {
          "output_type": "display_data",
          "data": {
            "text/plain": [
              "<Figure size 432x288 with 1 Axes>"
            ],
            "image/png": "[encoded data removed]"
          },
          "metadata": {}
        }
      ]
    },
    {
      "cell_type": "code",
      "source": [
        "plt.hist(np.repeat([1,2,3], [233, 6296, 17341]), [1,2,3,4], color='gold')"
      ],
      "metadata": {
        "colab": {
          "base_uri": "https://localhost:8080/",
          "height": 321
        },
        "id": "mHSFuwBbH2FF",
        "outputId": "8420cb4e-0441-4294-a19c-d1472313c68f"
      },
      "execution_count": null,
      "outputs": [
        {
          "output_type": "execute_result",
          "data": {
            "text/plain": [
              "(array([  233.,  6296., 17341.]),\n",
              " array([1, 2, 3, 4]),\n",
              " <a list of 3 Patch objects>)"
            ]
          },
          "metadata": {},
          "execution_count": 27
        },
        {
          "output_type": "display_data",
          "data": {
            "text/plain": [
              "<Figure size 432x288 with 1 Axes>"
            ],
            "image/png": "[encoded data removed]"
          },
          "metadata": {}
        }
      ]
    },
    {
      "cell_type": "code",
      "source": [
        ""
      ],
      "metadata": {
        "id": "U4ryzt52H4sn"
      },
      "execution_count": null,
      "outputs": []
    }
  ]
}